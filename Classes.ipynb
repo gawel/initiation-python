{
 "cells": [
  {
   "cell_type": "markdown",
   "metadata": {},
   "source": [
    "# Classes\n",
    "\n",
    "Le mot clé `class` permet de créer ses propres **objets**.\n",
    "\n",
    "Une classe décrit un comportement. Une instance de classe (objet) est une variable qui aura le comportement de sa classe\n",
    "\n",
    "Prenons une `class` Voiture :"
   ]
  },
  {
   "cell_type": "code",
   "execution_count": 1,
   "metadata": {},
   "outputs": [
    {
     "name": "stdout",
     "output_type": "stream",
     "text": [
      "<class '__main__.Voiture'>\n"
     ]
    }
   ],
   "source": [
    "class Voiture:\n",
    "    pass\n",
    "\n",
    "print(Voiture)"
   ]
  },
  {
   "cell_type": "code",
   "execution_count": 2,
   "metadata": {},
   "outputs": [
    {
     "name": "stdout",
     "output_type": "stream",
     "text": [
      "<__main__.Voiture object at 0x7f0ad83c2970>\n"
     ]
    }
   ],
   "source": [
    "opel_corsa = Voiture()\n",
    "print(opel_corsa)"
   ]
  },
  {
   "cell_type": "markdown",
   "metadata": {},
   "source": [
    "Un objet vide ne sert pas à grand chose. Une voiture peut rouler, seulement si on a démarré. Ajoutons des **méthodes de classe** :"
   ]
  },
  {
   "cell_type": "code",
   "execution_count": 3,
   "metadata": {},
   "outputs": [
    {
     "name": "stdout",
     "output_type": "stream",
     "text": [
      "Je suis une Opel Corsa arrêtée\n",
      "Je démarre\n",
      "Je suis une Opel Corsa démarrée\n"
     ]
    }
   ],
   "source": [
    "class Voiture:\n",
    "    \n",
    "    def __init__(self, name):\n",
    "        # cette méthode est le constructeur. appelée magiquement\n",
    "        # Voiture(name) vaut en fait Voiture.__init__(name)\n",
    "        self.name = name\n",
    "        self.started = False\n",
    "\n",
    "    def status(self):\n",
    "        if self.started:\n",
    "            started = \"démarrée\"\n",
    "        else:\n",
    "            started = \"arrêtée\"\n",
    "        print('Je suis une', self.name, started)\n",
    "        \n",
    "    def demarre(self):\n",
    "        print('Je démarre')\n",
    "        self.started = True\n",
    "\n",
    "opel_corsa = Voiture(name=\"Opel Corsa\")\n",
    "opel_corsa.status()\n",
    "opel_corsa.demarre()\n",
    "opel_corsa.status()"
   ]
  },
  {
   "cell_type": "markdown",
   "metadata": {},
   "source": [
    "Maintenant, on peut gérer un parc de voiture :"
   ]
  },
  {
   "cell_type": "code",
   "execution_count": 4,
   "metadata": {},
   "outputs": [
    {
     "name": "stdout",
     "output_type": "stream",
     "text": [
      "[<__main__.Voiture object at 0x7f0ad83569d0>, <__main__.Voiture object at 0x7f0ad8356790>, <__main__.Voiture object at 0x7f0ad8356a60>]\n"
     ]
    }
   ],
   "source": [
    "voitures = [Voiture(\"Peugeot %s\" % s) for s in ['205', '206', '308']]\n",
    "print(voitures)"
   ]
  },
  {
   "cell_type": "markdown",
   "metadata": {},
   "source": [
    "On démarre la 205 :"
   ]
  },
  {
   "cell_type": "code",
   "execution_count": 5,
   "metadata": {},
   "outputs": [
    {
     "name": "stdout",
     "output_type": "stream",
     "text": [
      "Je démarre\n",
      "Je suis une Peugeot 205 démarrée\n",
      "Je suis une Peugeot 206 arrêtée\n",
      "Je suis une Peugeot 308 arrêtée\n"
     ]
    }
   ],
   "source": [
    "voitures[0].demarre()\n",
    "\n",
    "for voiture in voitures:\n",
    "    voiture.status()"
   ]
  }
 ],
 "metadata": {
  "kernelspec": {
   "display_name": "Python 3",
   "language": "python",
   "name": "python3"
  },
  "language_info": {
   "codemirror_mode": {
    "name": "ipython",
    "version": 3
   },
   "file_extension": ".py",
   "mimetype": "text/x-python",
   "name": "python",
   "nbconvert_exporter": "python",
   "pygments_lexer": "ipython3",
   "version": "3.8.1"
  }
 },
 "nbformat": 4,
 "nbformat_minor": 4
}
