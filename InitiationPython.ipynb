{
 "cells": [
  {
   "cell_type": "markdown",
   "metadata": {
    "slideshow": {
     "slide_type": "slide"
    }
   },
   "source": [
    "# Initiation à Python"
   ]
  },
  {
   "cell_type": "markdown",
   "metadata": {},
   "source": [
    "Python est un langage de programmation puissant et accessible.\n",
    "\n",
    "C'est une grosse calculatrice. Il sait faire des additions !"
   ]
  },
  {
   "cell_type": "code",
   "execution_count": 1,
   "metadata": {
    "scrolled": false
   },
   "outputs": [],
   "source": [
    "1 + 1"
   ]
  },
  {
   "cell_type": "markdown",
   "metadata": {},
   "source": [
    "Mais aussi bien plus. Comme le logiciel qui gère cette présentation : [jupyter notebook](https://jupyter.org/)."
   ]
  },
  {
   "cell_type": "markdown",
   "metadata": {},
   "source": [
    "## Qu'est ce qu'un ordinateur ?\n",
    "\n",
    "\n",
    "- Un disque dur pour la persistance permanente\n",
    "\n",
    "- De la mémoire pour la persistance éphémère. On dit aussi mémoire vive, ou RAM\n",
    "\n",
    "- Un processeur pour calculer\n",
    "\n",
    "Un programme utilise à minima ces trois composants"
   ]
  },
  {
   "cell_type": "markdown",
   "metadata": {},
   "source": [
    "## Qu'est ce qu'un programme ?\n",
    "\n",
    "Un programme est une suite d'instructions décrites dans un ou plus fichiers stockés sur le disque dur.\n",
    "\n",
    "Lorsqu'on lance un programme, ce programme est chargé en mémoire. Puis le processeur éxécute les instructions décrites.\n",
    "\n",
    "En Python, un programme est un fichier texte, avec une extension `.py`. Par exemple `mon_programme.py`.\n",
    "\n",
    "On le lance depuis un terminal avec la commande `python mon_programme.py`"
   ]
  },
  {
   "cell_type": "markdown",
   "metadata": {},
   "source": [
    "## Qu'est ce qu'une instruction ?\n",
    "\n",
    "Un processeur ne comprends que quelques instructions (moins de 10). Un langage de programmation est une abstraction qui permet de convertir un langage compréhensible par l'homme vers le langage du processeur. Python est un **interpréteur**.\n",
    "\n",
    "Avec un langage de programmation, il existe autant d'instruction que d'atomes dans l'univers!\n",
    "\n",
    "Le langage fournit certaines instructions que l'ont peut étendre en créant des programmes.\n",
    "\n",
    "Il est aussi possible d'utiliser python en mode **interractif** en lanceant `python` sans argument depuis un terminal. Dans ce cas, votre programme est éphémère. Après avoir utilisé `CTRL+D` pour quitter python, votre travail est perdu. Ce mode est rarement utiliser dans la vrai vie mais peut-être utile pour tester des instructions.\n"
   ]
  },
  {
   "cell_type": "markdown",
   "metadata": {},
   "source": [
    "## Comparaison avec les mathématiques\n",
    "\n",
    "Les mathématiciens utilise des fonctions: `f(x) = y`. `y` varie en fonction de `x`.\n",
    "\n",
    "`f` peut faire plein de choses. Calculer l'exponentiel de `x`, par exemple.\n",
    "\n",
    "En programmation, `f` peut faire encore plus de chose. Comme faire démarrer votre cafetière 10 min avant votre réveil !\n",
    "\n",
    "Voici un exemple simple, qui représente l'équivalent mathématique de `f(x) = x + 1` :"
   ]
  },
  {
   "cell_type": "code",
   "execution_count": 2,
   "metadata": {
    "scrolled": false
   },
   "outputs": [],
   "source": [
    "def f(x):\n",
    "    return x + 1"
   ]
  },
  {
   "cell_type": "markdown",
   "metadata": {},
   "source": [
    "Une fois définie, on peut utiliser cette fonction :"
   ]
  },
  {
   "cell_type": "code",
   "execution_count": 3,
   "metadata": {},
   "outputs": [
    {
     "data": {
      "text/plain": [
       "2"
      ]
     },
     "execution_count": 3,
     "metadata": {},
     "output_type": "execute_result"
    }
   ],
   "source": [
    "f(1)"
   ]
  },
  {
   "cell_type": "markdown",
   "metadata": {},
   "source": [
    "On voit bien que lorsque `x = 1` la fonction renvoit `x + 1`, soit `2`. En programation comme en mathématique, `x` est appellé une variable.\n",
    "\n",
    "Les opérateurs mathématique sont disponible en python:\n",
    "\n",
    "- `+`: addition\n",
    "\n",
    "- `-`: soustraction\n",
    "\n",
    "- `*`: multiplication\n",
    "\n",
    "- `/`: division\n",
    "\n",
    "- `//`: division euclidienne\n",
    "\n",
    "- `%`: modulo (reste de la division euclidienne)"
   ]
  },
  {
   "cell_type": "markdown",
   "metadata": {},
   "source": [
    "### Arguments de fonction"
   ]
  },
  {
   "cell_type": "markdown",
   "metadata": {},
   "source": [
    "Une fonction peut prendre un ou plusieurs arguments. Ces arguments peuvent avoir une valeur par défaut"
   ]
  },
  {
   "cell_type": "code",
   "execution_count": 4,
   "metadata": {},
   "outputs": [
    {
     "name": "stdout",
     "output_type": "stream",
     "text": [
      "4\n",
      "6\n",
      "9\n"
     ]
    }
   ],
   "source": [
    "def f(x, y=3):\n",
    "    return x + y\n",
    "\n",
    "# x = 1; y = 3 (défaut)\n",
    "print(f(1))\n",
    "# x = 2; y = 4\n",
    "print(f(2, 4))\n",
    "# x = 2; y = 7\n",
    "print(f(x=2, y=7))"
   ]
  },
  {
   "cell_type": "markdown",
   "metadata": {},
   "source": [
    "## Les maths c'est bien beau, mais ou est ma cafetière ?\n",
    "\n",
    "Si la programation ne permettait, comme en maths, de ne manipuler que des nombres, on serait vite limiter.\n",
    "\n",
    "En programation, les variables ont un **type**. Par exemple, `1` est un entier (integer).\n",
    "\n",
    "Python fournit une fonction `type()` qui retourne le **type** d'une variable:"
   ]
  },
  {
   "cell_type": "code",
   "execution_count": 5,
   "metadata": {},
   "outputs": [
    {
     "data": {
      "text/plain": [
       "int"
      ]
     },
     "execution_count": 5,
     "metadata": {},
     "output_type": "execute_result"
    }
   ],
   "source": [
    "x = 1\n",
    "type(x)"
   ]
  },
  {
   "cell_type": "markdown",
   "metadata": {},
   "source": [
    "Le signe `=` est utilisé pour assigner une valeur à une variable. Ici, on assigne `1` à `x`. Ceci veut dire que notre ordinateur assigne un espace en **RAM** pour `x` pour y stocker la valeur `1`. Une fois le programme arrêté, la **RAM** est vidée.\n",
    "\n",
    "La valeur de `x` peut changer dans le temps. Son type aussi..."
   ]
  },
  {
   "cell_type": "code",
   "execution_count": 6,
   "metadata": {},
   "outputs": [
    {
     "data": {
      "text/plain": [
       "float"
      ]
     },
     "execution_count": 6,
     "metadata": {},
     "output_type": "execute_result"
    }
   ],
   "source": [
    "x = 0.5\n",
    "type(x)"
   ]
  },
  {
   "cell_type": "markdown",
   "metadata": {},
   "source": [
    "## Les types de bases en Python"
   ]
  },
  {
   "cell_type": "code",
   "execution_count": 7,
   "metadata": {},
   "outputs": [
    {
     "data": {
      "text/plain": [
       "int"
      ]
     },
     "execution_count": 7,
     "metadata": {},
     "output_type": "execute_result"
    }
   ],
   "source": [
    "# les entiers\n",
    "x = 1\n",
    "type(1)"
   ]
  },
  {
   "cell_type": "code",
   "execution_count": 8,
   "metadata": {},
   "outputs": [
    {
     "data": {
      "text/plain": [
       "float"
      ]
     },
     "execution_count": 8,
     "metadata": {},
     "output_type": "execute_result"
    }
   ],
   "source": [
    "# les flottants\n",
    "x = 0.5\n",
    "type(x)"
   ]
  },
  {
   "cell_type": "code",
   "execution_count": 9,
   "metadata": {},
   "outputs": [
    {
     "data": {
      "text/plain": [
       "bool"
      ]
     },
     "execution_count": 9,
     "metadata": {},
     "output_type": "execute_result"
    }
   ],
   "source": [
    "# les booléens\n",
    "x = True\n",
    "x = False\n",
    "type(x)"
   ]
  },
  {
   "cell_type": "code",
   "execution_count": 10,
   "metadata": {},
   "outputs": [
    {
     "data": {
      "text/plain": [
       "str"
      ]
     },
     "execution_count": 10,
     "metadata": {},
     "output_type": "execute_result"
    }
   ],
   "source": [
    "# les chaines de caractères\n",
    "x = \"cafetière\"\n",
    "type(x)"
   ]
  },
  {
   "cell_type": "code",
   "execution_count": 11,
   "metadata": {},
   "outputs": [
    {
     "data": {
      "text/plain": [
       "list"
      ]
     },
     "execution_count": 11,
     "metadata": {},
     "output_type": "execute_result"
    }
   ],
   "source": [
    "# les listes\n",
    "x = [1, 2]\n",
    "x = ['a', 'b']\n",
    "type(x)"
   ]
  },
  {
   "cell_type": "code",
   "execution_count": 12,
   "metadata": {},
   "outputs": [
    {
     "data": {
      "text/plain": [
       "tuple"
      ]
     },
     "execution_count": 12,
     "metadata": {},
     "output_type": "execute_result"
    }
   ],
   "source": [
    "# les uplets\n",
    "x = (1, 2, 2, 3)\n",
    "type(x)"
   ]
  },
  {
   "cell_type": "code",
   "execution_count": 13,
   "metadata": {},
   "outputs": [
    {
     "data": {
      "text/plain": [
       "dict"
      ]
     },
     "execution_count": 13,
     "metadata": {},
     "output_type": "execute_result"
    }
   ],
   "source": [
    "# les dictionnaires\n",
    "x = {\n",
    "    \"clé1\": \"valeur\",\n",
    "    \"clé2\": \"valeur\"\n",
    "}\n",
    "type(x)"
   ]
  },
  {
   "cell_type": "code",
   "execution_count": 14,
   "metadata": {},
   "outputs": [
    {
     "name": "stdout",
     "output_type": "stream",
     "text": [
      "{1, 2, 3}\n"
     ]
    },
    {
     "data": {
      "text/plain": [
       "set"
      ]
     },
     "execution_count": 14,
     "metadata": {},
     "output_type": "execute_result"
    }
   ],
   "source": [
    "# les ensembles (set)\n",
    "x = {1, 2, 2, 3}\n",
    "print(x)\n",
    "type(x)"
   ]
  },
  {
   "cell_type": "markdown",
   "metadata": {},
   "source": [
    "Il existe bien d'autres types. On peut aussi créer ses propres type (**class**). Mais on peut déjà faire plein de chose avec ceux présentés ci-dessus."
   ]
  },
  {
   "cell_type": "markdown",
   "metadata": {},
   "source": [
    "## Les méthodes"
   ]
  },
  {
   "cell_type": "markdown",
   "metadata": {},
   "source": [
    "Une méthode est une fonction associé à un type. Il permet d'obtenir un résultat lié au type d'une variable. Par exemple, on peut obtenir un chaine caractère majuscule:"
   ]
  },
  {
   "cell_type": "code",
   "execution_count": 15,
   "metadata": {},
   "outputs": [
    {
     "name": "stdout",
     "output_type": "stream",
     "text": [
      "JE CRIE PAS\n"
     ]
    }
   ],
   "source": [
    "x = 'je crie pas'\n",
    "print(x.upper())"
   ]
  },
  {
   "cell_type": "markdown",
   "metadata": {},
   "source": [
    "Ou vérifier qu'une chaine commence par une autre:"
   ]
  },
  {
   "cell_type": "code",
   "execution_count": 16,
   "metadata": {},
   "outputs": [
    {
     "name": "stdout",
     "output_type": "stream",
     "text": [
      "True\n"
     ]
    }
   ],
   "source": [
    "print(x.startswith('je'))"
   ]
  },
  {
   "cell_type": "markdown",
   "metadata": {},
   "source": [
    "Il est possible d'obtenir une list des methodes disponible avec `dir()`. (ça peut faire peur)"
   ]
  },
  {
   "cell_type": "code",
   "execution_count": 17,
   "metadata": {},
   "outputs": [
    {
     "name": "stdout",
     "output_type": "stream",
     "text": [
      "['__add__',\n",
      " '__class__',\n",
      " '__contains__',\n",
      " '__delattr__',\n",
      " '__dir__',\n",
      " '__doc__',\n",
      " '__eq__',\n",
      " '__format__',\n",
      " '__ge__',\n",
      " '__getattribute__',\n",
      " '__getitem__',\n",
      " '__getnewargs__',\n",
      " '__gt__',\n",
      " '__hash__',\n",
      " '__init__',\n",
      " '__init_subclass__',\n",
      " '__iter__',\n",
      " '__le__',\n",
      " '__len__',\n",
      " '__lt__',\n",
      " '__mod__',\n",
      " '__mul__',\n",
      " '__ne__',\n",
      " '__new__',\n",
      " '__reduce__',\n",
      " '__reduce_ex__',\n",
      " '__repr__',\n",
      " '__rmod__',\n",
      " '__rmul__',\n",
      " '__setattr__',\n",
      " '__sizeof__',\n",
      " '__str__',\n",
      " '__subclasshook__',\n",
      " 'capitalize',\n",
      " 'casefold',\n",
      " 'center',\n",
      " 'count',\n",
      " 'encode',\n",
      " 'endswith',\n",
      " 'expandtabs',\n",
      " 'find',\n",
      " 'format',\n",
      " 'format_map',\n",
      " 'index',\n",
      " 'isalnum',\n",
      " 'isalpha',\n",
      " 'isascii',\n",
      " 'isdecimal',\n",
      " 'isdigit',\n",
      " 'isidentifier',\n",
      " 'islower',\n",
      " 'isnumeric',\n",
      " 'isprintable',\n",
      " 'isspace',\n",
      " 'istitle',\n",
      " 'isupper',\n",
      " 'join',\n",
      " 'ljust',\n",
      " 'lower',\n",
      " 'lstrip',\n",
      " 'maketrans',\n",
      " 'partition',\n",
      " 'replace',\n",
      " 'rfind',\n",
      " 'rindex',\n",
      " 'rjust',\n",
      " 'rpartition',\n",
      " 'rsplit',\n",
      " 'rstrip',\n",
      " 'split',\n",
      " 'splitlines',\n",
      " 'startswith',\n",
      " 'strip',\n",
      " 'swapcase',\n",
      " 'title',\n",
      " 'translate',\n",
      " 'upper',\n",
      " 'zfill']\n"
     ]
    }
   ],
   "source": [
    "from pprint import pprint as print\n",
    "print(dir(x))"
   ]
  },
  {
   "cell_type": "markdown",
   "metadata": {},
   "source": [
    "On peut aussi obtenir de l'aide sur une méthode en utilisant `help()`"
   ]
  },
  {
   "cell_type": "code",
   "execution_count": 18,
   "metadata": {},
   "outputs": [
    {
     "name": "stdout",
     "output_type": "stream",
     "text": [
      "Help on built-in function startswith:\n",
      "\n",
      "startswith(...) method of builtins.str instance\n",
      "    S.startswith(prefix[, start[, end]]) -> bool\n",
      "    \n",
      "    Return True if S starts with the specified prefix, False otherwise.\n",
      "    With optional start, test S beginning at that position.\n",
      "    With optional end, stop comparing S at that position.\n",
      "    prefix can also be a tuple of strings to try.\n",
      "\n"
     ]
    }
   ],
   "source": [
    "help(x.startswith)"
   ]
  },
  {
   "cell_type": "markdown",
   "metadata": {},
   "source": [
    "## Notion de bloc\n",
    "\n",
    "Python utilise l'indentation pour définir des block d'instructions. Par convention, on utilise une indentation de 4 espaces pour délimiter les block.\n",
    "\n",
    "Cette syntaxe est correct :"
   ]
  },
  {
   "cell_type": "code",
   "execution_count": 19,
   "metadata": {},
   "outputs": [
    {
     "name": "stdout",
     "output_type": "stream",
     "text": [
      "2\n"
     ]
    }
   ],
   "source": [
    "def f(x):\n",
    "    return x + 1\n",
    "\n",
    "# on sort de la fonction en revenant à une indentation inférieur\n",
    "print(f(1))\n"
   ]
  },
  {
   "cell_type": "markdown",
   "metadata": {},
   "source": [
    "Cette syntaxe est incorrecte:"
   ]
  },
  {
   "cell_type": "code",
   "execution_count": 20,
   "metadata": {},
   "outputs": [
    {
     "ename": "IndentationError",
     "evalue": "expected an indented block (<ipython-input-20-67e24144236a>, line 3)",
     "output_type": "error",
     "traceback": [
      "\u001b[0;36m  File \u001b[0;32m\"<ipython-input-20-67e24144236a>\"\u001b[0;36m, line \u001b[0;32m3\u001b[0m\n\u001b[0;31m    return x + 1\u001b[0m\n\u001b[0m    ^\u001b[0m\n\u001b[0;31mIndentationError\u001b[0m\u001b[0;31m:\u001b[0m expected an indented block\n"
     ]
    }
   ],
   "source": [
    "def f(x):\n",
    "# on indente pas. c'est pas bon\n",
    "return x + 1\n",
    "\n",
    "print(f(1))\n",
    "\n",
    "# Python aime pas. On a une IndentationError, ligne 3"
   ]
  },
  {
   "cell_type": "markdown",
   "metadata": {},
   "source": [
    "## Type de blocs\n"
   ]
  },
  {
   "cell_type": "markdown",
   "metadata": {},
   "source": [
    "### Les functions"
   ]
  },
  {
   "cell_type": "code",
   "execution_count": null,
   "metadata": {},
   "outputs": [],
   "source": [
    "def ma_fonction(parametre):\n",
    "    parametre = parametre + 1\n",
    "    return parametre"
   ]
  },
  {
   "cell_type": "markdown",
   "metadata": {},
   "source": [
    "### Les conditions"
   ]
  },
  {
   "cell_type": "code",
   "execution_count": null,
   "metadata": {},
   "outputs": [],
   "source": [
    "x = 1\n",
    "if x == 1:\n",
    "    print('x est égale à 1')\n",
    "elif x < 1:\n",
    "    print('x est inférieur à 1')\n",
    "else:\n",
    "    print('x est supérieur de 1')\n"
   ]
  },
  {
   "cell_type": "markdown",
   "metadata": {},
   "source": [
    "Il existe plusieurs expression de comparaison:\n",
    "\n",
    "- `==` : est égale\n",
    "\n",
    "- `!=` : n'est pas égale\n",
    "\n",
    "- `>`, `>=` : est supérieur, supérieur ou égale\n",
    "\n",
    "- `<`, `<=` : est inférieur, inférieur ou égale\n",
    "\n",
    "- `is` : est. compare une adresse mémoire\n",
    "\n",
    "- `is not` : n'est pas. compare une addresse mémoire\n",
    "\n",
    "https://docs.python.org/fr/3/library/stdtypes.html"
   ]
  },
  {
   "cell_type": "markdown",
   "metadata": {},
   "source": [
    "### Les boucles"
   ]
  },
  {
   "cell_type": "code",
   "execution_count": null,
   "metadata": {},
   "outputs": [],
   "source": [
    "for x in ['python', 'est', 'super']:\n",
    "    print(x)"
   ]
  },
  {
   "cell_type": "code",
   "execution_count": null,
   "metadata": {},
   "outputs": [],
   "source": [
    "for x in range(1, 4):\n",
    "    print(x)"
   ]
  },
  {
   "cell_type": "code",
   "execution_count": null,
   "metadata": {},
   "outputs": [],
   "source": [
    "x = 0\n",
    "while x < 3:\n",
    "    print(x)\n",
    "    x = x + 1"
   ]
  },
  {
   "cell_type": "markdown",
   "metadata": {},
   "source": [
    "### Les listes compréhension"
   ]
  },
  {
   "cell_type": "code",
   "execution_count": null,
   "metadata": {},
   "outputs": [],
   "source": [
    "[x for x in range(1, 10)]"
   ]
  },
  {
   "cell_type": "code",
   "execution_count": null,
   "metadata": {},
   "outputs": [],
   "source": [
    "[x for x in range(1, 10) if x % 2 == 0]"
   ]
  },
  {
   "cell_type": "code",
   "execution_count": null,
   "metadata": {},
   "outputs": [],
   "source": [
    "[f(x) for x in range(1, 10)]"
   ]
  },
  {
   "cell_type": "markdown",
   "metadata": {},
   "source": [
    "### Les context manager"
   ]
  },
  {
   "cell_type": "markdown",
   "metadata": {},
   "source": [
    "Les context manager sont associé avec le mot clé `with`. Cette instruction, utilisant un context manager, permet d'ouvrir un fichier, d'agir dessus, puis de le fermer proprement quand on quitte le block:"
   ]
  },
  {
   "cell_type": "code",
   "execution_count": null,
   "metadata": {},
   "outputs": [],
   "source": [
    "with open('requirements.txt') as fd:\n",
    "    print(fd)\n",
    "    print(fd.readline())"
   ]
  },
  {
   "cell_type": "markdown",
   "metadata": {},
   "source": [
    "Il est possible de faire proprement sans context manager, mais c'est moins joli:"
   ]
  },
  {
   "cell_type": "code",
   "execution_count": null,
   "metadata": {},
   "outputs": [],
   "source": [
    "fd = open('requirements.txt')\n",
    "print(fd.readline())\n",
    "fd.close()"
   ]
  },
  {
   "cell_type": "markdown",
   "metadata": {},
   "source": [
    "https://docs.python.org/fr/3/reference/compound_stmts.html#with"
   ]
  },
  {
   "cell_type": "markdown",
   "metadata": {},
   "source": [
    "### Imbrication"
   ]
  },
  {
   "cell_type": "markdown",
   "metadata": {},
   "source": [
    "On indente un bloc de 4 caractères, mais on peut avoir plein de bloc imbriqués!"
   ]
  },
  {
   "cell_type": "code",
   "execution_count": null,
   "metadata": {},
   "outputs": [],
   "source": [
    "def f():\n",
    "    for x in [0, 1, 2, 3, 4]:\n",
    "        if x == 1:\n",
    "            print('on a 1')\n",
    "        else:\n",
    "            print('on a pas 1')\n",
    "\n",
    "f()"
   ]
  },
  {
   "cell_type": "markdown",
   "metadata": {},
   "source": [
    "## La bibliothèque standard"
   ]
  },
  {
   "cell_type": "markdown",
   "metadata": {},
   "source": [
    "Python fournis ce qu'on appelle la **bibliothèque standard**. C'est un ensemble de programme permetant de ne pas réinventer la roue. Des outils utilisable par les développeurs. Cet ensemble de programme sont divisé en **modules**. En python, pour utiliser un module, on l'`import`. On peut ensuite utiliser les fonctions définies dans ce module:"
   ]
  },
  {
   "cell_type": "code",
   "execution_count": null,
   "metadata": {},
   "outputs": [],
   "source": [
    "import datetime\n",
    "print(datetime.datetime.now())"
   ]
  },
  {
   "cell_type": "code",
   "execution_count": null,
   "metadata": {},
   "outputs": [],
   "source": [
    "import os.path\n",
    "print(os.path.exists('requirements.txt'))"
   ]
  },
  {
   "cell_type": "code",
   "execution_count": null,
   "metadata": {},
   "outputs": [],
   "source": [
    "from os import path\n",
    "print(path.exists('requirements.txt'))"
   ]
  },
  {
   "cell_type": "markdown",
   "metadata": {},
   "source": [
    "Un module est un fichier `.py` similaire aux programme que vous écrivez. On peut voir ou est situé ce fichier en utilisant `__file__`.\n"
   ]
  },
  {
   "cell_type": "code",
   "execution_count": null,
   "metadata": {},
   "outputs": [],
   "source": [
    "print(os.__file__)"
   ]
  },
  {
   "cell_type": "markdown",
   "metadata": {},
   "source": [
    "Il existe beaucoup trop de modules pour tous les passer en revue. Allez voir https://docs.python.org/3/library/index.html \n",
    "\n",
    "Certain sont utilisable directement depuis la ligne de commande. Par exemple, on peut lancer un server web avec `python -m http.server` Puis consulter http://0.0.0.0:8000/ Ceci peut-être utilisé pour partager des fichiers de votre ordinateur avec une personne située à l'autre bout d'internet."
   ]
  },
  {
   "cell_type": "code",
   "execution_count": null,
   "metadata": {},
   "outputs": [],
   "source": []
  }
 ],
 "metadata": {
  "celltoolbar": "Aucun(e)",
  "kernelspec": {
   "display_name": "Python 3",
   "language": "python",
   "name": "python3"
  },
  "language_info": {
   "codemirror_mode": {
    "name": "ipython",
    "version": 3
   },
   "file_extension": ".py",
   "mimetype": "text/x-python",
   "name": "python",
   "nbconvert_exporter": "python",
   "pygments_lexer": "ipython3",
   "version": "3.8.1"
  }
 },
 "nbformat": 4,
 "nbformat_minor": 4
}
