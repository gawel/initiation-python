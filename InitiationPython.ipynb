{
 "cells": [
  {
   "cell_type": "markdown",
   "metadata": {
    "slideshow": {
     "slide_type": "slide"
    }
   },
   "source": [
    "# Initiation à Python"
   ]
  },
  {
   "cell_type": "markdown",
   "metadata": {},
   "source": [
    "Python est un langage de programmation puissant et accessible.\n",
    "\n",
    "C'est une grosse calculatrice. Il sait faire des additions!"
   ]
  },
  {
   "cell_type": "code",
   "execution_count": 1,
   "metadata": {
    "scrolled": false
   },
   "outputs": [
    {
     "data": {
      "text/plain": [
       "2"
      ]
     },
     "execution_count": 1,
     "metadata": {},
     "output_type": "execute_result"
    }
   ],
   "source": [
    "1 + 1"
   ]
  },
  {
   "cell_type": "markdown",
   "metadata": {},
   "source": [
    "Mais aussi bien plus. Comme le logiciel qui gère cette présentation: [jupyter notebook](https://jupyter.org/)."
   ]
  },
  {
   "cell_type": "markdown",
   "metadata": {},
   "source": [
    "## Qu'est ce qu'un ordinateur ?\n",
    "\n",
    "\n",
    "- Un disque dur pour la persistance permanente\n",
    "\n",
    "- De la mémoire pour la persistance éphémère. On dit aussi mémoire vive, ou RAM\n",
    "\n",
    "- Un processeur pour calculer\n",
    "\n",
    "Un programme utilise à minima ces trois composants"
   ]
  },
  {
   "cell_type": "markdown",
   "metadata": {},
   "source": [
    "## Qu'est ce qu'un programme ?\n",
    "\n",
    "Un programme est une suite d'instructions décrites dans un ou plus fichiers stockés sur le disque dur.\n",
    "\n",
    "Lorsqu'on lance un programme, ce programme est chargé en mémoire. Puis le processeur éxécute les instructions décrites.\n",
    "\n",
    "En Python, un programme est un fichier texte, avec une extension `.py`. Par exemple `mon_programme.py`.\n",
    "\n",
    "On le lance depuis un terminal avec la commande `python mon_programme.py`"
   ]
  },
  {
   "cell_type": "markdown",
   "metadata": {},
   "source": [
    "## Qu'est ce qu'une instruction ?\n",
    "\n",
    "Un processeur ne comprends que quelques instructions (moins de 10). Un langage de programmation est une abstraction qui permet de convertir un langage compréhensible par l'homme vers le langage du processeur.\n",
    "\n",
    "Avec un langage de programmation, il existe autant d'instruction que d'atomes dans l'univers!\n",
    "\n",
    "Le langage fournit certaines instructions que l'ont peut étendre en créant des programmes\n"
   ]
  },
  {
   "cell_type": "markdown",
   "metadata": {},
   "source": [
    "## Comparaison avec les mathématiques\n",
    "\n",
    "Les mathématiciens utilise des fonctions: `f(x) = y`. `y` varie en fonction de `x`.\n",
    "\n",
    "`f` peut faire plein de choses. Calculer l'exponentiel de `x`, par exemple.\n",
    "\n",
    "En programmation, `f` peut faire encore plus de chose. Comme faire démarrer votre cafetière 10mn avant votre réveil!\n",
    "\n",
    "Voici un exemple simple, qui représente l'équivalent mathématique de `f(x) = x + 1`:"
   ]
  },
  {
   "cell_type": "code",
   "execution_count": 2,
   "metadata": {
    "scrolled": false
   },
   "outputs": [],
   "source": [
    "def f(x):\n",
    "    return x + 1"
   ]
  },
  {
   "cell_type": "markdown",
   "metadata": {},
   "source": [
    "Une fois définie, on peut utiliser cette fonction:"
   ]
  },
  {
   "cell_type": "code",
   "execution_count": 3,
   "metadata": {},
   "outputs": [
    {
     "data": {
      "text/plain": [
       "2"
      ]
     },
     "execution_count": 3,
     "metadata": {},
     "output_type": "execute_result"
    }
   ],
   "source": [
    "f(1)"
   ]
  },
  {
   "cell_type": "markdown",
   "metadata": {},
   "source": [
    "On voit bien que lorsque `x = 1` la fonction renvoit `x + 1`, soit `2`. En programation comme en mathématique, `x` est appellé une variable.\n",
    "\n",
    "Les opérateurs mathématique sont disponible en python:\n",
    "\n",
    "- `+`: addition\n",
    "\n",
    "- `-`: soustraction\n",
    "\n",
    "- `*`: multiplication\n",
    "\n",
    "- `/`: division\n",
    "\n",
    "- `%`: modulo (reste de la division)"
   ]
  },
  {
   "cell_type": "markdown",
   "metadata": {},
   "source": [
    "## Les math c'est bien beau, mais ou est ma cafetière ?\n",
    "\n",
    "Si la programation ne permettait, comme en math, de ne manipuler que des nombres, on serait vite limiter.\n",
    "\n",
    "En programation, les variables ont un **type**. Par exemple, `1` est un entier (integer).\n",
    "\n",
    "Python fournit une fonction `type()` qui retourne le **type** d'une variable:"
   ]
  },
  {
   "cell_type": "code",
   "execution_count": 4,
   "metadata": {},
   "outputs": [
    {
     "data": {
      "text/plain": [
       "int"
      ]
     },
     "execution_count": 4,
     "metadata": {},
     "output_type": "execute_result"
    }
   ],
   "source": [
    "x = 1\n",
    "type(x)"
   ]
  },
  {
   "cell_type": "markdown",
   "metadata": {},
   "source": [
    "## Les types de bases en Python"
   ]
  },
  {
   "cell_type": "code",
   "execution_count": 5,
   "metadata": {},
   "outputs": [
    {
     "data": {
      "text/plain": [
       "int"
      ]
     },
     "execution_count": 5,
     "metadata": {},
     "output_type": "execute_result"
    }
   ],
   "source": [
    "# les entiers\n",
    "x = 1\n",
    "type(1)"
   ]
  },
  {
   "cell_type": "code",
   "execution_count": 6,
   "metadata": {},
   "outputs": [
    {
     "data": {
      "text/plain": [
       "float"
      ]
     },
     "execution_count": 6,
     "metadata": {},
     "output_type": "execute_result"
    }
   ],
   "source": [
    "# les nombres à virgule\n",
    "x = 0.5\n",
    "type(x)"
   ]
  },
  {
   "cell_type": "code",
   "execution_count": 7,
   "metadata": {},
   "outputs": [
    {
     "data": {
      "text/plain": [
       "bool"
      ]
     },
     "execution_count": 7,
     "metadata": {},
     "output_type": "execute_result"
    }
   ],
   "source": [
    "# les booleans\n",
    "x = True\n",
    "x = False\n",
    "type(x)"
   ]
  },
  {
   "cell_type": "code",
   "execution_count": 8,
   "metadata": {},
   "outputs": [
    {
     "data": {
      "text/plain": [
       "str"
      ]
     },
     "execution_count": 8,
     "metadata": {},
     "output_type": "execute_result"
    }
   ],
   "source": [
    "# les chaines de caractère\n",
    "x = \"cafetière\"\n",
    "type(x)"
   ]
  },
  {
   "cell_type": "code",
   "execution_count": 9,
   "metadata": {},
   "outputs": [
    {
     "data": {
      "text/plain": [
       "list"
      ]
     },
     "execution_count": 9,
     "metadata": {},
     "output_type": "execute_result"
    }
   ],
   "source": [
    "# les listes\n",
    "x = [1, 2]\n",
    "x = ['a', 'b']\n",
    "type(x)"
   ]
  },
  {
   "cell_type": "code",
   "execution_count": 10,
   "metadata": {},
   "outputs": [
    {
     "data": {
      "text/plain": [
       "dict"
      ]
     },
     "execution_count": 10,
     "metadata": {},
     "output_type": "execute_result"
    }
   ],
   "source": [
    "# les dictionnaires\n",
    "x = {\n",
    "    \"clé1\": \"valeur\",\n",
    "    \"clé2\": \"valeur\"\n",
    "}\n",
    "type(x)"
   ]
  },
  {
   "cell_type": "markdown",
   "metadata": {},
   "source": [
    "Il existe bien d'autres types. On peut aussi créer ses propres type (**class**). Mais on peut déjà faire plein de chose avec ceux présentés ci-dessus."
   ]
  },
  {
   "cell_type": "markdown",
   "metadata": {},
   "source": [
    "## Notion de block\n",
    "\n",
    "Python utilise l'indentation pour définir des blocks d'instructions. Par convention, on utilise 4 espaces.\n",
    "\n",
    "Cette syntaxe est correct:\n"
   ]
  },
  {
   "cell_type": "code",
   "execution_count": 11,
   "metadata": {},
   "outputs": [
    {
     "name": "stdout",
     "output_type": "stream",
     "text": [
      "2\n"
     ]
    }
   ],
   "source": [
    "def f(x):\n",
    "    return x + 1\n",
    "\n",
    "# on sort de la fonction en revenant à une indentation inférieur\n",
    "print(f(1))\n"
   ]
  },
  {
   "cell_type": "markdown",
   "metadata": {},
   "source": [
    "Cette syntaxe est incorrecte:"
   ]
  },
  {
   "cell_type": "code",
   "execution_count": 12,
   "metadata": {},
   "outputs": [
    {
     "name": "stdout",
     "output_type": "stream",
     "text": [
      "2\n"
     ]
    }
   ],
   "source": [
    "def f(x):\n",
    "# on indente pas. c'est pas bon\n",
    "    return x + 1\n",
    "\n",
    "print(f(1))\n",
    "\n",
    "# Python aime pas. On a une IndentationError, ligne 3"
   ]
  },
  {
   "cell_type": "markdown",
   "metadata": {},
   "source": [
    "## Type de block\n"
   ]
  },
  {
   "cell_type": "markdown",
   "metadata": {},
   "source": [
    "### Les functions"
   ]
  },
  {
   "cell_type": "code",
   "execution_count": 13,
   "metadata": {},
   "outputs": [],
   "source": [
    "def ma_fonction(parametre):\n",
    "    parametre = parametre + 1\n",
    "    return parametre"
   ]
  },
  {
   "cell_type": "markdown",
   "metadata": {},
   "source": [
    "### Les blocks conditionnels"
   ]
  },
  {
   "cell_type": "code",
   "execution_count": 14,
   "metadata": {},
   "outputs": [
    {
     "name": "stdout",
     "output_type": "stream",
     "text": [
      "x est égale à 1\n"
     ]
    }
   ],
   "source": [
    "x = 1\n",
    "if x == 1:\n",
    "    print('x est égale à 1')\n",
    "else:\n",
    "    print('x est différent de 1')\n"
   ]
  },
  {
   "cell_type": "markdown",
   "metadata": {},
   "source": [
    "Il existe plusieurs expression de comparaison:\n",
    "\n",
    "- `==`: est égale\n",
    "\n",
    "- `!=`: n'est pas égale\n",
    "\n",
    "- `>`, `>=`: est supérieur, supérieur ou égale\n",
    "\n",
    "- `<`, `<=`: est inférieur, inférieur ou égale\n",
    "\n",
    "- `is`: est. compare une adresse mémoire\n",
    "\n",
    "- `is not`: n'est pas. compare une addresse mémoire"
   ]
  },
  {
   "cell_type": "markdown",
   "metadata": {},
   "source": [
    "### Les boucles"
   ]
  },
  {
   "cell_type": "code",
   "execution_count": 15,
   "metadata": {},
   "outputs": [
    {
     "name": "stdout",
     "output_type": "stream",
     "text": [
      "python\n",
      "est\n",
      "super\n"
     ]
    }
   ],
   "source": [
    "for x in ['python', 'est', 'super']:\n",
    "    print(x)"
   ]
  },
  {
   "cell_type": "code",
   "execution_count": 16,
   "metadata": {},
   "outputs": [
    {
     "name": "stdout",
     "output_type": "stream",
     "text": [
      "0\n",
      "1\n"
     ]
    }
   ],
   "source": [
    "x = 0\n",
    "while x < 2:\n",
    "    print(x)\n",
    "    x = x + 1"
   ]
  },
  {
   "cell_type": "markdown",
   "metadata": {},
   "source": []
  },
  {
   "cell_type": "code",
   "execution_count": null,
   "metadata": {},
   "outputs": [],
   "source": []
  },
  {
   "cell_type": "code",
   "execution_count": null,
   "metadata": {},
   "outputs": [],
   "source": []
  }
 ],
 "metadata": {
  "celltoolbar": "Aucun(e)",
  "kernelspec": {
   "display_name": "Python 3",
   "language": "python",
   "name": "python3"
  },
  "language_info": {
   "codemirror_mode": {
    "name": "ipython",
    "version": 3
   },
   "file_extension": ".py",
   "mimetype": "text/x-python",
   "name": "python",
   "nbconvert_exporter": "python",
   "pygments_lexer": "ipython3",
   "version": "3.7.3"
  }
 },
 "nbformat": 4,
 "nbformat_minor": 4
}
