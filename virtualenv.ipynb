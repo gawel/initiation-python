{
 "cells": [
  {
   "cell_type": "markdown",
   "metadata": {},
   "source": [
    "# Virtualenvs"
   ]
  },
  {
   "cell_type": "markdown",
   "metadata": {},
   "source": [
    "Il est préférable d'isoler un projet du reste de votre système. Afin d'y installer des librairies pour un projet précis, entre autre. Python permet celà grâce au «virtualenv».\n",
    "\n",
    "Pour créer un virtualenv, utiliser la commande: `python3 -m venv votreprojet`\n",
    "\n",
    "Tout ce passe ensuite dans le répèrtoire `votreprojet`.\n",
    "\n",
    "Une fois ceci fait, vous pouvez installer des librairies depuis le Python Package Index https://pypi.org qui deviendront accessible depuis l'interpreteur du virtualenv.\n"
   ]
  },
  {
   "cell_type": "code",
   "execution_count": 3,
   "metadata": {},
   "outputs": [],
   "source": [
    "!python3 -m venv monproject"
   ]
  },
  {
   "cell_type": "code",
   "execution_count": 4,
   "metadata": {},
   "outputs": [
    {
     "name": "stdout",
     "output_type": "stream",
     "text": [
      "bin  include  lib  lib64  pyvenv.cfg  share\r\n"
     ]
    }
   ],
   "source": [
    "!ls monproject"
   ]
  },
  {
   "cell_type": "code",
   "execution_count": 5,
   "metadata": {},
   "outputs": [
    {
     "name": "stdout",
     "output_type": "stream",
     "text": [
      "Collecting ipython\n",
      "\u001b[?25l  Downloading https://files.pythonhosted.org/packages/b8/6d/1e3e335e767fc15a2047a008e27df31aa8bcf11c6f3805d03abefc69aa88/ipython-7.12.0-py3-none-any.whl (777kB)\n",
      "\u001b[K    100% |████████████████████████████████| 778kB 321kB/s ta 0:00:01\n",
      "\u001b[?25hCollecting jedi>=0.10 (from ipython)\n",
      "\u001b[?25l  Downloading https://files.pythonhosted.org/packages/01/67/333e2196b70840f411fd819407b4e98aa3150c2bd24c52154a451f912ef2/jedi-0.16.0-py2.py3-none-any.whl (1.1MB)\n",
      "\u001b[K    100% |████████████████████████████████| 1.1MB 356kB/s eta 0:00:01\n",
      "\u001b[?25hCollecting pexpect; sys_platform != \"win32\" (from ipython)\n",
      "\u001b[?25l  Downloading https://files.pythonhosted.org/packages/39/7b/88dbb785881c28a102619d46423cb853b46dbccc70d3ac362d99773a78ce/pexpect-4.8.0-py2.py3-none-any.whl (59kB)\n",
      "\u001b[K    100% |████████████████████████████████| 61kB 331kB/s ta 0:00:01\n",
      "\u001b[?25hCollecting backcall (from ipython)\n",
      "  Downloading https://files.pythonhosted.org/packages/84/71/c8ca4f5bb1e08401b916c68003acf0a0655df935d74d93bf3f3364b310e0/backcall-0.1.0.tar.gz\n",
      "Collecting traitlets>=4.2 (from ipython)\n",
      "\u001b[?25l  Downloading https://files.pythonhosted.org/packages/ca/ab/872a23e29cec3cf2594af7e857f18b687ad21039c1f9b922fac5b9b142d5/traitlets-4.3.3-py2.py3-none-any.whl (75kB)\n",
      "\u001b[K    100% |████████████████████████████████| 81kB 698kB/s ta 0:00:011\n",
      "\u001b[?25hCollecting decorator (from ipython)\n",
      "  Downloading https://files.pythonhosted.org/packages/8f/b7/f329cfdc75f3d28d12c65980e4469e2fa373f1953f5df6e370e84ea2e875/decorator-4.4.1-py2.py3-none-any.whl\n",
      "Collecting prompt-toolkit!=3.0.0,!=3.0.1,<3.1.0,>=2.0.0 (from ipython)\n",
      "\u001b[?25l  Downloading https://files.pythonhosted.org/packages/f5/22/f00412fafc68169054cc623a35c32773f22b403ddbe516c8adfdecf25341/prompt_toolkit-3.0.3-py3-none-any.whl (348kB)\n",
      "\u001b[K    100% |████████████████████████████████| 358kB 748kB/s ta 0:00:01\n",
      "\u001b[?25hCollecting pickleshare (from ipython)\n",
      "  Downloading https://files.pythonhosted.org/packages/9a/41/220f49aaea88bc6fa6cba8d05ecf24676326156c23b991e80b3f2fc24c77/pickleshare-0.7.5-py2.py3-none-any.whl\n",
      "Requirement already satisfied: setuptools>=18.5 in ./monproject/lib/python3.7/site-packages (from ipython) (40.8.0)\n",
      "Collecting pygments (from ipython)\n",
      "\u001b[?25l  Downloading https://files.pythonhosted.org/packages/be/39/32da3184734730c0e4d3fa3b2b5872104668ad6dc1b5a73d8e477e5fe967/Pygments-2.5.2-py2.py3-none-any.whl (896kB)\n",
      "\u001b[K    100% |████████████████████████████████| 901kB 1.2MB/s eta 0:00:01\n",
      "\u001b[?25hCollecting parso>=0.5.2 (from jedi>=0.10->ipython)\n",
      "\u001b[?25l  Downloading https://files.pythonhosted.org/packages/ec/bb/3b6c9f604ac40e2a7833bc767bd084035f12febcbd2b62204c5bc30edf97/parso-0.6.1-py2.py3-none-any.whl (97kB)\n",
      "\u001b[K    100% |████████████████████████████████| 102kB 1.0MB/s a 0:00:011\n",
      "\u001b[?25hCollecting ptyprocess>=0.5 (from pexpect; sys_platform != \"win32\"->ipython)\n",
      "  Downloading https://files.pythonhosted.org/packages/d1/29/605c2cc68a9992d18dada28206eeada56ea4bd07a239669da41674648b6f/ptyprocess-0.6.0-py2.py3-none-any.whl\n",
      "Collecting ipython-genutils (from traitlets>=4.2->ipython)\n",
      "  Downloading https://files.pythonhosted.org/packages/fa/bc/9bd3b5c2b4774d5f33b2d544f1460be9df7df2fe42f352135381c347c69a/ipython_genutils-0.2.0-py2.py3-none-any.whl\n",
      "Collecting six (from traitlets>=4.2->ipython)\n",
      "\u001b[33m  Cache entry deserialization failed, entry ignored\u001b[0m\n",
      "\u001b[33m  Cache entry deserialization failed, entry ignored\u001b[0m\n",
      "  Downloading https://files.pythonhosted.org/packages/65/eb/1f97cb97bfc2390a276969c6fae16075da282f5058082d4cb10c6c5c1dba/six-1.14.0-py2.py3-none-any.whl\n",
      "Collecting wcwidth (from prompt-toolkit!=3.0.0,!=3.0.1,<3.1.0,>=2.0.0->ipython)\n",
      "\u001b[33m  Cache entry deserialization failed, entry ignored\u001b[0m\n",
      "\u001b[33m  Cache entry deserialization failed, entry ignored\u001b[0m\n",
      "  Downloading https://files.pythonhosted.org/packages/58/b4/4850a0ccc6f567cc0ebe7060d20ffd4258b8210efadc259da62dc6ed9c65/wcwidth-0.1.8-py2.py3-none-any.whl\n",
      "Building wheels for collected packages: backcall\n",
      "  Running setup.py bdist_wheel for backcall ... \u001b[?25lerror\n",
      "  Complete output from command /home/gawel/bear/initiation-python/monproject/bin/python3 -u -c \"import setuptools, tokenize;__file__='/tmp/pip-install-tksy1emr/backcall/setup.py';f=getattr(tokenize, 'open', open)(__file__);code=f.read().replace('\\r\\n', '\\n');f.close();exec(compile(code, __file__, 'exec'))\" bdist_wheel -d /tmp/pip-wheel-t_5m9xlr --python-tag cp37:\n",
      "  usage: -c [global_opts] cmd1 [cmd1_opts] [cmd2 [cmd2_opts] ...]\n",
      "     or: -c --help [cmd1 cmd2 ...]\n",
      "     or: -c --help-commands\n",
      "     or: -c cmd --help\n",
      "  \n",
      "  error: invalid command 'bdist_wheel'\n",
      "  \n",
      "  ----------------------------------------\n",
      "\u001b[31m  Failed building wheel for backcall\u001b[0m\n",
      "\u001b[?25h  Running setup.py clean for backcall\n",
      "Failed to build backcall\n",
      "Installing collected packages: parso, jedi, ptyprocess, pexpect, backcall, decorator, ipython-genutils, six, traitlets, wcwidth, prompt-toolkit, pickleshare, pygments, ipython\n",
      "  Running setup.py install for backcall ... \u001b[?25ldone\n",
      "\u001b[?25hSuccessfully installed backcall-0.1.0 decorator-4.4.1 ipython-7.12.0 ipython-genutils-0.2.0 jedi-0.16.0 parso-0.6.1 pexpect-4.8.0 pickleshare-0.7.5 prompt-toolkit-3.0.3 ptyprocess-0.6.0 pygments-2.5.2 six-1.14.0 traitlets-4.3.3 wcwidth-0.1.8\n"
     ]
    }
   ],
   "source": [
    "!./monproject/bin/pip install ipython"
   ]
  },
  {
   "cell_type": "code",
   "execution_count": 7,
   "metadata": {},
   "outputs": [
    {
     "name": "stdout",
     "output_type": "stream",
     "text": [
      "<module 'IPython' from '/home/gawel/bear/initiation-python/monproject/lib/python3.7/site-packages/IPython/__init__.py'>\r\n"
     ]
    }
   ],
   "source": [
    "!./monproject/bin/python -c \"import IPython; print(IPython)\""
   ]
  },
  {
   "cell_type": "code",
   "execution_count": null,
   "metadata": {},
   "outputs": [],
   "source": []
  }
 ],
 "metadata": {
  "kernelspec": {
   "display_name": "Python 3",
   "language": "python",
   "name": "python3"
  },
  "language_info": {
   "codemirror_mode": {
    "name": "ipython",
    "version": 3
   },
   "file_extension": ".py",
   "mimetype": "text/x-python",
   "name": "python",
   "nbconvert_exporter": "python",
   "pygments_lexer": "ipython3",
   "version": "3.8.1"
  }
 },
 "nbformat": 4,
 "nbformat_minor": 4
}
