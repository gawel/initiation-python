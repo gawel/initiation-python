{
 "cells": [
  {
   "cell_type": "markdown",
   "metadata": {},
   "source": [
    "# Modules et paquets\n",
    "\n",
    "## Modules\n",
    "\n",
    "Le mot clé `import` rends accessible du code qui n'est pas dans notre fichier. Ce code provient d'autres fichiers appellé **modules**.\n",
    "\n",
    "On peut créer ses propres modules.\n",
    "\n",
    "Si l'ont créer un fichier `monmodule.py`. Alors un autre programme pourra `import monmodule`.\n",
    "\n",
    "Exemple :"
   ]
  },
  {
   "cell_type": "code",
   "execution_count": 6,
   "metadata": {},
   "outputs": [],
   "source": [
    "with open('monmodule.py', 'w') as fd:\n",
    "    fd.write('def mafonction(x):\\n    return x * 2\\n')"
   ]
  },
  {
   "cell_type": "code",
   "execution_count": 7,
   "metadata": {},
   "outputs": [
    {
     "name": "stdout",
     "output_type": "stream",
     "text": [
      "def mafonction(x):\r\n",
      "    return x * 2\r\n"
     ]
    }
   ],
   "source": [
    "!cat monmodule.py"
   ]
  },
  {
   "cell_type": "code",
   "execution_count": 8,
   "metadata": {},
   "outputs": [
    {
     "name": "stdout",
     "output_type": "stream",
     "text": [
      "<module 'monmodule' from '/home/gawel/bear/initiation-python/monmodule.py'>\n",
      "8\n"
     ]
    }
   ],
   "source": [
    "import monmodule\n",
    "print(monmodule)\n",
    "print(monmodule.mafonction(4))"
   ]
  },
  {
   "cell_type": "markdown",
   "metadata": {},
   "source": [
    "## Packages\n",
    "\n",
    "Si tous les fichiers devaient se trouver dans le même répertoire, celui ci contiendrait vite des milliers de fichiers.\n",
    "\n",
    "On peut donc utiliser des répertoires pour organiser notre code. La seule obligation est que ce répertoire contienne un fichier `___init__.py` qui peut-être vide ou contenir du code.\n",
    "\n",
    "Exemple :"
   ]
  },
  {
   "cell_type": "code",
   "execution_count": 1,
   "metadata": {},
   "outputs": [],
   "source": [
    "!mkdir -p monpackage"
   ]
  },
  {
   "cell_type": "code",
   "execution_count": 17,
   "metadata": {},
   "outputs": [],
   "source": [
    "with open('monpackage/__init__.py', 'w') as fd:\n",
    "    fd.write('def mafonctiondansinit(x):\\n    return x * 2\\n')\n",
    "    \n",
    "with open('monpackage/monmodule.py', 'w') as fd:\n",
    "    fd.write('def mafonction(x):\\n    return x * 4\\n')"
   ]
  },
  {
   "cell_type": "code",
   "execution_count": 18,
   "metadata": {},
   "outputs": [
    {
     "name": "stdout",
     "output_type": "stream",
     "text": [
      "def mafonctiondansinit(x):\r\n",
      "    return x * 2\r\n"
     ]
    }
   ],
   "source": [
    "!cat monpackage/__init__.py"
   ]
  },
  {
   "cell_type": "code",
   "execution_count": 19,
   "metadata": {},
   "outputs": [
    {
     "name": "stdout",
     "output_type": "stream",
     "text": [
      "def mafonction(x):\r\n",
      "    return x * 4\r\n"
     ]
    }
   ],
   "source": [
    "!cat monpackage/monmodule.py"
   ]
  },
  {
   "cell_type": "code",
   "execution_count": 20,
   "metadata": {},
   "outputs": [
    {
     "name": "stdout",
     "output_type": "stream",
     "text": [
      "4\n"
     ]
    }
   ],
   "source": [
    "import monpackage\n",
    "print(monpackage.mafonctiondansinit(2))"
   ]
  },
  {
   "cell_type": "code",
   "execution_count": 14,
   "metadata": {},
   "outputs": [
    {
     "name": "stdout",
     "output_type": "stream",
     "text": [
      "8\n"
     ]
    }
   ],
   "source": [
    "from monpackage import monmodule\n",
    "print(monmodule.mafonction(2))"
   ]
  },
  {
   "cell_type": "code",
   "execution_count": null,
   "metadata": {},
   "outputs": [],
   "source": []
  }
 ],
 "metadata": {
  "kernelspec": {
   "display_name": "Python 3",
   "language": "python",
   "name": "python3"
  },
  "language_info": {
   "codemirror_mode": {
    "name": "ipython",
    "version": 3
   },
   "file_extension": ".py",
   "mimetype": "text/x-python",
   "name": "python",
   "nbconvert_exporter": "python",
   "pygments_lexer": "ipython3",
   "version": "3.8.1"
  }
 },
 "nbformat": 4,
 "nbformat_minor": 4
}
